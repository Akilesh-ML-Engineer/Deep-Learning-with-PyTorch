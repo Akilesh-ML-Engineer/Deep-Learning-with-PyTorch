{
 "cells": [
  {
   "cell_type": "code",
   "execution_count": 1,
   "id": "09b55345-4197-40e8-84c8-1a694ef742f5",
   "metadata": {},
   "outputs": [
    {
     "name": "stdout",
     "output_type": "stream",
     "text": [
      "/home/asa/miniconda3/envs/PyTorch-Development/bin/python\n",
      "Sat Aug 17 18:23:06 2024       \n",
      "+-----------------------------------------------------------------------------------------+\n",
      "| NVIDIA-SMI 555.58.02              Driver Version: 555.58.02      CUDA Version: 12.5     |\n",
      "|-----------------------------------------+------------------------+----------------------+\n",
      "| GPU  Name                 Persistence-M | Bus-Id          Disp.A | Volatile Uncorr. ECC |\n",
      "| Fan  Temp   Perf          Pwr:Usage/Cap |           Memory-Usage | GPU-Util  Compute M. |\n",
      "|                                         |                        |               MIG M. |\n",
      "|=========================================+========================+======================|\n",
      "|   0  NVIDIA GeForce RTX 4050 ...    Off |   00000000:01:00.0 Off |                  N/A |\n",
      "| N/A   46C    P0             16W /   80W |       8MiB /   6141MiB |      0%      Default |\n",
      "|                                         |                        |                  N/A |\n",
      "+-----------------------------------------+------------------------+----------------------+\n",
      "                                                                                         \n",
      "+-----------------------------------------------------------------------------------------+\n",
      "| Processes:                                                                              |\n",
      "|  GPU   GI   CI        PID   Type   Process name                              GPU Memory |\n",
      "|        ID   ID                                                               Usage      |\n",
      "|=========================================================================================|\n",
      "|    0   N/A  N/A       906      G   Hyprland                                        1MiB |\n",
      "+-----------------------------------------------------------------------------------------+\n"
     ]
    }
   ],
   "source": [
    "!which python\n",
    "!nvidia-smi"
   ]
  },
  {
   "cell_type": "code",
   "execution_count": 6,
   "id": "de4e6539-9cb5-483c-b204-dabe49bacba1",
   "metadata": {},
   "outputs": [
    {
     "name": "stdout",
     "output_type": "stream",
     "text": [
      "GPU device : NVIDIA GeForce RTX 4050 Laptop GPU\n"
     ]
    }
   ],
   "source": [
    "# Checking the GPU availablity\n",
    "import torch\n",
    "\n",
    "if torch.cuda.is_available():\n",
    "    print(f\"GPU device : {torch.cuda.get_device_name()}\")\n",
    "else:\n",
    "    print(\"CUDA is not available. No GPU detected.\")"
   ]
  },
  {
   "cell_type": "code",
   "execution_count": 7,
   "id": "515ee92d-e489-4105-8606-97ab0ba2984d",
   "metadata": {},
   "outputs": [
    {
     "name": "stdout",
     "output_type": "stream",
     "text": [
      "Requirement already satisfied: pandas in /home/asa/miniconda3/envs/PyTorch-Development/lib/python3.10/site-packages (2.2.2)\n",
      "Requirement already satisfied: numpy in /home/asa/miniconda3/envs/PyTorch-Development/lib/python3.10/site-packages (1.26.4)\n",
      "Requirement already satisfied: matplotlib in /home/asa/miniconda3/envs/PyTorch-Development/lib/python3.10/site-packages (3.9.2)\n",
      "Requirement already satisfied: scipy in /home/asa/miniconda3/envs/PyTorch-Development/lib/python3.10/site-packages (1.14.0)\n",
      "Requirement already satisfied: python-dateutil>=2.8.2 in /home/asa/miniconda3/envs/PyTorch-Development/lib/python3.10/site-packages (from pandas) (2.9.0.post0)\n",
      "Requirement already satisfied: pytz>=2020.1 in /home/asa/miniconda3/envs/PyTorch-Development/lib/python3.10/site-packages (from pandas) (2024.1)\n",
      "Requirement already satisfied: tzdata>=2022.7 in /home/asa/miniconda3/envs/PyTorch-Development/lib/python3.10/site-packages (from pandas) (2024.1)\n",
      "Requirement already satisfied: contourpy>=1.0.1 in /home/asa/miniconda3/envs/PyTorch-Development/lib/python3.10/site-packages (from matplotlib) (1.2.1)\n",
      "Requirement already satisfied: cycler>=0.10 in /home/asa/miniconda3/envs/PyTorch-Development/lib/python3.10/site-packages (from matplotlib) (0.12.1)\n",
      "Requirement already satisfied: fonttools>=4.22.0 in /home/asa/miniconda3/envs/PyTorch-Development/lib/python3.10/site-packages (from matplotlib) (4.53.1)\n",
      "Requirement already satisfied: kiwisolver>=1.3.1 in /home/asa/miniconda3/envs/PyTorch-Development/lib/python3.10/site-packages (from matplotlib) (1.4.5)\n",
      "Requirement already satisfied: packaging>=20.0 in /home/asa/miniconda3/envs/PyTorch-Development/lib/python3.10/site-packages (from matplotlib) (24.1)\n",
      "Requirement already satisfied: pillow>=8 in /home/asa/miniconda3/envs/PyTorch-Development/lib/python3.10/site-packages (from matplotlib) (10.4.0)\n",
      "Requirement already satisfied: pyparsing>=2.3.1 in /home/asa/miniconda3/envs/PyTorch-Development/lib/python3.10/site-packages (from matplotlib) (3.1.2)\n",
      "Requirement already satisfied: six>=1.5 in /home/asa/miniconda3/envs/PyTorch-Development/lib/python3.10/site-packages (from python-dateutil>=2.8.2->pandas) (1.16.0)\n"
     ]
    }
   ],
   "source": [
    "# Installing the required packages\n",
    "!pip install pandas numpy matplotlib scipy"
   ]
  },
  {
   "cell_type": "code",
   "execution_count": 2,
   "id": "7bda02e3-47f6-43dc-a1c0-6d7a0f56f1d4",
   "metadata": {},
   "outputs": [],
   "source": [
    "# Importing thw requires packages\n",
    "import torch\n",
    "import torch.nn as nn\n",
    "import torch.nn.functional as F\n",
    "import torchvision\n",
    "import numpy as np\n",
    "import pandas as pd\n",
    "import matplotlib\n",
    "import matplotlib.pyplot as plt"
   ]
  },
  {
   "cell_type": "code",
   "execution_count": 3,
   "id": "04dfe474-2113-4509-925f-7c8fdb903e0d",
   "metadata": {},
   "outputs": [
    {
     "data": {
      "text/plain": [
       "'2.4.0'"
      ]
     },
     "execution_count": 3,
     "metadata": {},
     "output_type": "execute_result"
    }
   ],
   "source": [
    "# Checking the torch version\n",
    "torch.__version__"
   ]
  },
  {
   "cell_type": "code",
   "execution_count": 42,
   "id": "ffa29087-11b7-4990-8e19-ed5226e7f6b6",
   "metadata": {},
   "outputs": [
    {
     "data": {
      "text/plain": [
       "tensor(2, device='cuda:0')"
      ]
     },
     "execution_count": 42,
     "metadata": {},
     "output_type": "execute_result"
    }
   ],
   "source": [
    "# Let's Code.\n",
    "\n",
    "# Scalar\n",
    "t1 = torch.tensor(2).to(device='cuda')\n",
    "t1"
   ]
  },
  {
   "cell_type": "code",
   "execution_count": 41,
   "id": "8c3a0e40-2408-43d6-8ada-5c0705225f15",
   "metadata": {},
   "outputs": [
    {
     "data": {
      "text/plain": [
       "23"
      ]
     },
     "execution_count": 41,
     "metadata": {},
     "output_type": "execute_result"
    }
   ],
   "source": [
    "t1.new_tensor(23).item()"
   ]
  },
  {
   "cell_type": "code",
   "execution_count": 47,
   "id": "b4f5abd6-4681-4406-96b5-778b5043ef13",
   "metadata": {},
   "outputs": [
    {
     "data": {
      "text/plain": [
       "(0, 0)"
      ]
     },
     "execution_count": 47,
     "metadata": {},
     "output_type": "execute_result"
    }
   ],
   "source": [
    "# Dimension of a tensor\n",
    "# Both does the same stuff (fn & property)\n",
    "t1.ndimension(), t1.ndim"
   ]
  },
  {
   "cell_type": "code",
   "execution_count": 52,
   "id": "337301c6-edaa-4fae-b1f7-966cb5a79f12",
   "metadata": {},
   "outputs": [
    {
     "data": {
      "text/plain": [
       "tensor([1, 2, 3])"
      ]
     },
     "execution_count": 52,
     "metadata": {},
     "output_type": "execute_result"
    }
   ],
   "source": [
    "# Vector\n",
    "t2 = torch.tensor([1,2,3])\n",
    "t2"
   ]
  },
  {
   "cell_type": "code",
   "execution_count": 53,
   "id": "e8ce31e9-2aad-4821-9cd4-79abf62cc91a",
   "metadata": {},
   "outputs": [
    {
     "data": {
      "text/plain": [
       "(torch.Size([3]), torch.Size([3]), 1)"
      ]
     },
     "execution_count": 53,
     "metadata": {},
     "output_type": "execute_result"
    }
   ],
   "source": [
    "# Getting the shape, size, rank\n",
    "t2.shape, t2.size(), t2.ndim"
   ]
  },
  {
   "cell_type": "code",
   "execution_count": 54,
   "id": "f7e36cd7-68e2-46a6-9fe9-2f717d67fd56",
   "metadata": {},
   "outputs": [
    {
     "data": {
      "text/plain": [
       "tensor([[1, 2],\n",
       "        [3, 4]])"
      ]
     },
     "execution_count": 54,
     "metadata": {},
     "output_type": "execute_result"
    }
   ],
   "source": [
    "# Matrix\n",
    "t3 = torch.tensor([[1,2],\n",
    "                   [3,4]])\n",
    "t3"
   ]
  },
  {
   "cell_type": "code",
   "execution_count": 55,
   "id": "94128ffd-4564-4972-a9aa-d0820981ebf6",
   "metadata": {},
   "outputs": [
    {
     "data": {
      "text/plain": [
       "torch.Size([2, 2])"
      ]
     },
     "execution_count": 55,
     "metadata": {},
     "output_type": "execute_result"
    }
   ],
   "source": [
    "t3.shape"
   ]
  },
  {
   "cell_type": "code",
   "execution_count": 56,
   "id": "4eca5102-7fde-4c59-96af-baf74f723b63",
   "metadata": {},
   "outputs": [
    {
     "data": {
      "text/plain": [
       "torch.Size([2, 2])"
      ]
     },
     "execution_count": 56,
     "metadata": {},
     "output_type": "execute_result"
    }
   ],
   "source": [
    "t3.size()"
   ]
  },
  {
   "cell_type": "code",
   "execution_count": 57,
   "id": "8afbf016-930a-41ba-932c-7ce2d94b0a91",
   "metadata": {},
   "outputs": [
    {
     "data": {
      "text/plain": [
       "4"
      ]
     },
     "execution_count": 57,
     "metadata": {},
     "output_type": "execute_result"
    }
   ],
   "source": [
    "# Total no. of elements in the tensor\n",
    "t3.numel()"
   ]
  },
  {
   "cell_type": "code",
   "execution_count": 58,
   "id": "c0fc64c3-532b-443d-915a-cdf5d2c8d3f2",
   "metadata": {},
   "outputs": [
    {
     "data": {
      "text/plain": [
       "(torch.int64, device(type='cpu'))"
      ]
     },
     "execution_count": 58,
     "metadata": {},
     "output_type": "execute_result"
    }
   ],
   "source": [
    "# getting the dtype and device it is loaded\n",
    "t3.dtype, t3.device"
   ]
  },
  {
   "cell_type": "code",
   "execution_count": 66,
   "id": "4d40dee3-0d95-4c85-b320-cb0260684d5e",
   "metadata": {},
   "outputs": [
    {
     "data": {
      "text/plain": [
       "tensor([[[1, 2],\n",
       "         [3, 4],\n",
       "         [9, 0]],\n",
       "\n",
       "        [[5, 6],\n",
       "         [7, 8],\n",
       "         [9, 8]]])"
      ]
     },
     "execution_count": 66,
     "metadata": {},
     "output_type": "execute_result"
    }
   ],
   "source": [
    "# tensor / multi-dim matrix\n",
    "t4 = torch.tensor([[[1,2],[3,4],[9,0]],[[5,6],[7,8],[9,8]]])\n",
    "t4"
   ]
  },
  {
   "cell_type": "code",
   "execution_count": 67,
   "id": "0fdd5528-1c90-4321-91b0-33e7619e9bfc",
   "metadata": {},
   "outputs": [
    {
     "data": {
      "text/plain": [
       "(torch.Size([2, 3, 2]), 3, torch.int64, device(type='cpu'), 12)"
      ]
     },
     "execution_count": 67,
     "metadata": {},
     "output_type": "execute_result"
    }
   ],
   "source": [
    "t4.shape, t4.ndim, t4.dtype, t4.device, t4.numel()"
   ]
  },
  {
   "cell_type": "code",
   "execution_count": 80,
   "id": "98d6b8ba-514a-4eb7-9c65-d97bf3c1f36f",
   "metadata": {},
   "outputs": [
    {
     "data": {
      "text/plain": [
       "torch.strided"
      ]
     },
     "execution_count": 80,
     "metadata": {},
     "output_type": "execute_result"
    }
   ],
   "source": [
    "# Memory layout of a tensor\n",
    "t4.layout"
   ]
  },
  {
   "cell_type": "code",
   "execution_count": null,
   "id": "2d02eb6c-22fa-4c0c-b76c-f7380ce4bbb0",
   "metadata": {},
   "outputs": [],
   "source": []
  },
  {
   "cell_type": "code",
   "execution_count": null,
   "id": "2afdcecb-ba70-4bc8-aef4-70318a183a3d",
   "metadata": {},
   "outputs": [],
   "source": []
  }
 ],
 "metadata": {
  "kernelspec": {
   "display_name": "Python 3 (ipykernel)",
   "language": "python",
   "name": "python3"
  },
  "language_info": {
   "codemirror_mode": {
    "name": "ipython",
    "version": 3
   },
   "file_extension": ".py",
   "mimetype": "text/x-python",
   "name": "python",
   "nbconvert_exporter": "python",
   "pygments_lexer": "ipython3",
   "version": "3.10.14"
  }
 },
 "nbformat": 4,
 "nbformat_minor": 5
}
